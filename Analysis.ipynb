{
 "cells": [
  {
   "cell_type": "code",
   "execution_count": 2,
   "metadata": {
    "collapsed": true
   },
   "outputs": [],
   "source": [
    "import pandas as pd"
   ]
  },
  {
   "cell_type": "code",
   "execution_count": 3,
   "metadata": {},
   "outputs": [],
   "source": [
    "df1 = pd.read_csv('entire_dataset.csv') #entire dataset\n",
    "df2 = pd.read_csv('March17_subset.csv') #subset of data from March 2017"
   ]
  },
  {
   "cell_type": "code",
   "execution_count": 4,
   "metadata": {},
   "outputs": [
    {
     "name": "stderr",
     "output_type": "stream",
     "text": [
      "D:\\Anaconda\\lib\\site-packages\\statsmodels\\compat\\pandas.py:56: FutureWarning: The pandas.core.datetools module is deprecated and will be removed in a future version. Please use the pandas.tseries module instead.\n",
      "  from pandas.core import datetools\n"
     ]
    },
    {
     "data": {
      "text/html": [
       "<table class=\"simpletable\">\n",
       "<caption>OLS Regression Results</caption>\n",
       "<tr>\n",
       "  <th>Dep. Variable:</th>      <td>NextDayChange</td>  <th>  R-squared:         </th> <td>   0.001</td>\n",
       "</tr>\n",
       "<tr>\n",
       "  <th>Model:</th>                   <td>OLS</td>       <th>  Adj. R-squared:    </th> <td>  -0.000</td>\n",
       "</tr>\n",
       "<tr>\n",
       "  <th>Method:</th>             <td>Least Squares</td>  <th>  F-statistic:       </th> <td>  0.8360</td>\n",
       "</tr>\n",
       "<tr>\n",
       "  <th>Date:</th>             <td>Thu, 07 Dec 2017</td> <th>  Prob (F-statistic):</th>  <td> 0.361</td> \n",
       "</tr>\n",
       "<tr>\n",
       "  <th>Time:</th>                 <td>02:37:59</td>     <th>  Log-Likelihood:    </th> <td> -2767.2</td>\n",
       "</tr>\n",
       "<tr>\n",
       "  <th>No. Observations:</th>      <td>   787</td>      <th>  AIC:               </th> <td>   5536.</td>\n",
       "</tr>\n",
       "<tr>\n",
       "  <th>Df Residuals:</th>          <td>   786</td>      <th>  BIC:               </th> <td>   5541.</td>\n",
       "</tr>\n",
       "<tr>\n",
       "  <th>Df Model:</th>              <td>     1</td>      <th>                     </th>     <td> </td>   \n",
       "</tr>\n",
       "<tr>\n",
       "  <th>Covariance Type:</th>      <td>nonrobust</td>    <th>                     </th>     <td> </td>   \n",
       "</tr>\n",
       "</table>\n",
       "<table class=\"simpletable\">\n",
       "<tr>\n",
       "      <td></td>         <th>coef</th>     <th>std err</th>      <th>t</th>      <th>P>|t|</th>  <th>[0.025</th>    <th>0.975]</th>  \n",
       "</tr>\n",
       "<tr>\n",
       "  <th>Sentiment</th> <td>    0.4853</td> <td>    0.531</td> <td>    0.914</td> <td> 0.361</td> <td>   -0.557</td> <td>    1.527</td>\n",
       "</tr>\n",
       "</table>\n",
       "<table class=\"simpletable\">\n",
       "<tr>\n",
       "  <th>Omnibus:</th>       <td>238.936</td> <th>  Durbin-Watson:     </th> <td>   2.018</td> \n",
       "</tr>\n",
       "<tr>\n",
       "  <th>Prob(Omnibus):</th> <td> 0.000</td>  <th>  Jarque-Bera (JB):  </th> <td>13205.081</td>\n",
       "</tr>\n",
       "<tr>\n",
       "  <th>Skew:</th>          <td> 0.496</td>  <th>  Prob(JB):          </th> <td>    0.00</td> \n",
       "</tr>\n",
       "<tr>\n",
       "  <th>Kurtosis:</th>      <td>23.043</td>  <th>  Cond. No.          </th> <td>    1.00</td> \n",
       "</tr>\n",
       "</table>"
      ],
      "text/plain": [
       "<class 'statsmodels.iolib.summary.Summary'>\n",
       "\"\"\"\n",
       "                            OLS Regression Results                            \n",
       "==============================================================================\n",
       "Dep. Variable:          NextDayChange   R-squared:                       0.001\n",
       "Model:                            OLS   Adj. R-squared:                 -0.000\n",
       "Method:                 Least Squares   F-statistic:                    0.8360\n",
       "Date:                Thu, 07 Dec 2017   Prob (F-statistic):              0.361\n",
       "Time:                        02:37:59   Log-Likelihood:                -2767.2\n",
       "No. Observations:                 787   AIC:                             5536.\n",
       "Df Residuals:                     786   BIC:                             5541.\n",
       "Df Model:                           1                                         \n",
       "Covariance Type:            nonrobust                                         \n",
       "==============================================================================\n",
       "                 coef    std err          t      P>|t|      [0.025      0.975]\n",
       "------------------------------------------------------------------------------\n",
       "Sentiment      0.4853      0.531      0.914      0.361      -0.557       1.527\n",
       "==============================================================================\n",
       "Omnibus:                      238.936   Durbin-Watson:                   2.018\n",
       "Prob(Omnibus):                  0.000   Jarque-Bera (JB):            13205.081\n",
       "Skew:                           0.496   Prob(JB):                         0.00\n",
       "Kurtosis:                      23.043   Cond. No.                         1.00\n",
       "==============================================================================\n",
       "\n",
       "Warnings:\n",
       "[1] Standard Errors assume that the covariance matrix of the errors is correctly specified.\n",
       "\"\"\""
      ]
     },
     "execution_count": 4,
     "metadata": {},
     "output_type": "execute_result"
    }
   ],
   "source": [
    "# OLS Regression \n",
    "import numpy as np\n",
    "import statsmodels.api as sm\n",
    "\n",
    "X = df1[\"Sentiment\"]\n",
    "y = df1[\"NextDayChange\"]\n",
    "\n",
    "model = sm.OLS(y, X).fit()\n",
    "model.summary()"
   ]
  },
  {
   "cell_type": "code",
   "execution_count": 5,
   "metadata": {
    "collapsed": true
   },
   "outputs": [],
   "source": [
    "from sklearn.svm import SVC\n",
    "from sklearn.neural_network import MLPClassifier\n",
    "from sklearn.naive_bayes import GaussianNB\n",
    "from sklearn.neighbors import KNeighborsClassifier\n",
    "\n",
    "knn = KNeighborsClassifier(n_neighbors=2)\n",
    "svc = SVC(kernel=\"linear\")\n",
    "mlp = MLPClassifier(hidden_layer_sizes=(30,30,30))\n",
    "nbay = GaussianNB()"
   ]
  },
  {
   "cell_type": "code",
   "execution_count": 6,
   "metadata": {},
   "outputs": [
    {
     "name": "stderr",
     "output_type": "stream",
     "text": [
      "D:\\Anaconda\\lib\\site-packages\\ipykernel_launcher.py:6: FutureWarning: reshape is deprecated and will raise in a subsequent release. Please use .values.reshape(...) instead\n",
      "  \n",
      "D:\\Anaconda\\lib\\site-packages\\ipykernel_launcher.py:7: FutureWarning: reshape is deprecated and will raise in a subsequent release. Please use .values.reshape(...) instead\n",
      "  import sys\n"
     ]
    }
   ],
   "source": [
    "from sklearn.model_selection import train_test_split\n",
    "\n",
    "#For entire dataset\n",
    "X = df1['Sentiment']\n",
    "y = df1['Change']\n",
    "X = X.reshape(-1,1)\n",
    "y = y.reshape(-1,1)\n",
    "c, r = y.shape\n",
    "y = y.reshape(c,)\n",
    "X_train, X_test, y_train, y_test = train_test_split(X, y, test_size=0.2)"
   ]
  },
  {
   "cell_type": "code",
   "execution_count": 7,
   "metadata": {},
   "outputs": [
    {
     "name": "stdout",
     "output_type": "stream",
     "text": [
      "0.515869418834\n"
     ]
    }
   ],
   "source": [
    "#Cross validation score for MLP classifier (entire dataset)\n",
    "from sklearn.model_selection import cross_val_score\n",
    "scores = cross_val_score(mlp, X, y, cv = 4)\n",
    "sum = 0\n",
    "for i in range(0,4):\n",
    "    sum = sum + scores[i]\n",
    "print(sum/4)"
   ]
  },
  {
   "cell_type": "code",
   "execution_count": 8,
   "metadata": {},
   "outputs": [
    {
     "name": "stdout",
     "output_type": "stream",
     "text": [
      "0.49302677924\n"
     ]
    }
   ],
   "source": [
    "#Cross validation score for Naive Bayes classifier (entire dataset)\n",
    "scores = cross_val_score(nbay, X, y, cv = 4)\n",
    "sum = 0\n",
    "for i in range(0,4):\n",
    "    sum = sum + scores[i]\n",
    "print(sum/4)\n"
   ]
  },
  {
   "cell_type": "code",
   "execution_count": 9,
   "metadata": {},
   "outputs": [
    {
     "name": "stdout",
     "output_type": "stream",
     "text": [
      "0.48027815187\n"
     ]
    }
   ],
   "source": [
    "#Cross validation score for k-Nearest Neighbor classifier (entire dataset)\n",
    "scores = cross_val_score(knn, X, y, cv = 4)\n",
    "sum = 0\n",
    "for i in range(0,4):\n",
    "    sum = sum + scores[i]\n",
    "print(sum/4)"
   ]
  },
  {
   "cell_type": "code",
   "execution_count": 10,
   "metadata": {},
   "outputs": [
    {
     "name": "stdout",
     "output_type": "stream",
     "text": [
      "0.506986170103\n"
     ]
    }
   ],
   "source": [
    "#Cross validation score for Support Vector Machines classifier (entire dataset)\n",
    "scores = cross_val_score(svc, X, y, cv = 4)\n",
    "sum = 0\n",
    "for i in range(0,4):\n",
    "    sum = sum + scores[i]\n",
    "print(sum/4)"
   ]
  },
  {
   "cell_type": "code",
   "execution_count": 11,
   "metadata": {},
   "outputs": [
    {
     "name": "stderr",
     "output_type": "stream",
     "text": [
      "D:\\Anaconda\\lib\\site-packages\\ipykernel_launcher.py:4: FutureWarning: reshape is deprecated and will raise in a subsequent release. Please use .values.reshape(...) instead\n",
      "  after removing the cwd from sys.path.\n",
      "D:\\Anaconda\\lib\\site-packages\\ipykernel_launcher.py:5: FutureWarning: reshape is deprecated and will raise in a subsequent release. Please use .values.reshape(...) instead\n",
      "  \"\"\"\n"
     ]
    }
   ],
   "source": [
    "#For subset data\n",
    "X = df2['Sentiment']\n",
    "y = df2['Change']\n",
    "X = X.reshape(-1,1)\n",
    "y = y.reshape(-1,1)\n",
    "c, r = y.shape\n",
    "y = y.reshape(c,)\n",
    "X_train, X_test, y_train, y_test = train_test_split(X, y, test_size=0.2)"
   ]
  },
  {
   "cell_type": "code",
   "execution_count": 12,
   "metadata": {},
   "outputs": [
    {
     "name": "stdout",
     "output_type": "stream",
     "text": [
      "0.527698367321\n"
     ]
    }
   ],
   "source": [
    "#Cross validation score for MLP classifier (subset data)\n",
    "from sklearn.model_selection import cross_val_score\n",
    "scores = cross_val_score(mlp, X, y, cv = 4)\n",
    "sum = 0\n",
    "for i in range(0,4):\n",
    "    sum = sum + scores[i]\n",
    "print(sum/4)"
   ]
  },
  {
   "cell_type": "code",
   "execution_count": 13,
   "metadata": {},
   "outputs": [
    {
     "name": "stdout",
     "output_type": "stream",
     "text": [
      "0.569711263579\n"
     ]
    }
   ],
   "source": [
    "#Cross validation score for Naive Bayes classifier (subset data)\n",
    "scores = cross_val_score(nbay, X, y, cv = 4)\n",
    "sum = 0\n",
    "for i in range(0,4):\n",
    "    sum = sum + scores[i]\n",
    "print(sum/4)"
   ]
  },
  {
   "cell_type": "code",
   "execution_count": 14,
   "metadata": {},
   "outputs": [
    {
     "name": "stdout",
     "output_type": "stream",
     "text": [
      "0.52847182517\n"
     ]
    }
   ],
   "source": [
    "#Cross validation score for k-Nearest Neighbor classifier (subset data)\n",
    "scores = cross_val_score(knn, X, y, cv = 4)\n",
    "sum = 0\n",
    "for i in range(0,4):\n",
    "    sum = sum + scores[i]\n",
    "print(sum/4)"
   ]
  },
  {
   "cell_type": "code",
   "execution_count": 15,
   "metadata": {},
   "outputs": [
    {
     "name": "stdout",
     "output_type": "stream",
     "text": [
      "0.523152912776\n"
     ]
    }
   ],
   "source": [
    "#Cross validation score for Support Vector Machines classifier (subset data)\n",
    "scores = cross_val_score(svc, X, y, cv = 4)\n",
    "sum = 0\n",
    "for i in range(0,4):\n",
    "    sum = sum + scores[i]\n",
    "print(sum/4)"
   ]
  },
  {
   "cell_type": "code",
   "execution_count": null,
   "metadata": {
    "collapsed": true
   },
   "outputs": [],
   "source": []
  }
 ],
 "metadata": {
  "kernelspec": {
   "display_name": "Python 2",
   "language": "python",
   "name": "python2"
  },
  "language_info": {
   "codemirror_mode": {
    "name": "ipython",
    "version": 2
   },
   "file_extension": ".py",
   "mimetype": "text/x-python",
   "name": "python",
   "nbconvert_exporter": "python",
   "pygments_lexer": "ipython2",
   "version": "2.7.13"
  }
 },
 "nbformat": 4,
 "nbformat_minor": 2
}
